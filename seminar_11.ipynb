{
 "cells": [
  {
   "cell_type": "code",
   "execution_count": 1,
   "id": "b6d5b32c",
   "metadata": {},
   "outputs": [],
   "source": [
    "import numpy as np"
   ]
  },
  {
   "cell_type": "code",
   "execution_count": 2,
   "id": "ed530ae0",
   "metadata": {},
   "outputs": [],
   "source": [
    "array1 = np.array([(-4,17,-35), (74,-56,9), (11,7, -6)], dtype = int)   #Инициализация двух двумерных массивов\n",
    "array2 = np.array([(23,8,-3), (-12,11,-2), (-1, 3, 2)], dtype = int)"
   ]
  },
  {
   "cell_type": "code",
   "execution_count": 3,
   "id": "eaccccc6",
   "metadata": {},
   "outputs": [
    {
     "data": {
      "text/plain": [
       "(array([[ -4,  17, -35],\n",
       "        [ 74, -56,   9],\n",
       "        [ 11,   7,  -6]]),\n",
       " array([[ 23,   8,  -3],\n",
       "        [-12,  11,  -2],\n",
       "        [ -1,   3,   2]]))"
      ]
     },
     "execution_count": 3,
     "metadata": {},
     "output_type": "execute_result"
    }
   ],
   "source": [
    "array1, array2"
   ]
  },
  {
   "cell_type": "code",
   "execution_count": 4,
   "id": "9c6b744f",
   "metadata": {},
   "outputs": [],
   "source": [
    "# Инвентаризация одного из массивов (пусть это будет array1)"
   ]
  },
  {
   "cell_type": "code",
   "execution_count": 5,
   "id": "3afc8fd8",
   "metadata": {},
   "outputs": [
    {
     "data": {
      "text/plain": [
       "(3, 3)"
      ]
     },
     "execution_count": 5,
     "metadata": {},
     "output_type": "execute_result"
    }
   ],
   "source": [
    "array1.shape           # Размерность массива"
   ]
  },
  {
   "cell_type": "code",
   "execution_count": 6,
   "id": "dc552ba1",
   "metadata": {},
   "outputs": [
    {
     "data": {
      "text/plain": [
       "4"
      ]
     },
     "execution_count": 6,
     "metadata": {},
     "output_type": "execute_result"
    }
   ],
   "source": [
    "array1.itemsize        # Вес элемента массива в байтах"
   ]
  },
  {
   "cell_type": "code",
   "execution_count": 7,
   "id": "275a4c8a",
   "metadata": {},
   "outputs": [
    {
     "data": {
      "text/plain": [
       "2"
      ]
     },
     "execution_count": 7,
     "metadata": {},
     "output_type": "execute_result"
    }
   ],
   "source": [
    "array1.ndim            # Количество измерений массива"
   ]
  },
  {
   "cell_type": "code",
   "execution_count": 8,
   "id": "c3f6f1ce",
   "metadata": {},
   "outputs": [
    {
     "data": {
      "text/plain": [
       "9"
      ]
     },
     "execution_count": 8,
     "metadata": {},
     "output_type": "execute_result"
    }
   ],
   "source": [
    "array1.size            # Количество элементов в массиве"
   ]
  },
  {
   "cell_type": "code",
   "execution_count": 9,
   "id": "ae4611a3",
   "metadata": {},
   "outputs": [
    {
     "data": {
      "text/plain": [
       "'int32'"
      ]
     },
     "execution_count": 9,
     "metadata": {},
     "output_type": "execute_result"
    }
   ],
   "source": [
    "array1.dtype.name      # Тип элементов в массиве"
   ]
  },
  {
   "cell_type": "code",
   "execution_count": 10,
   "id": "5cbef304",
   "metadata": {},
   "outputs": [],
   "source": [
    "# Алгебраические операции с массивами"
   ]
  },
  {
   "cell_type": "code",
   "execution_count": 11,
   "id": "a16b2ce0",
   "metadata": {},
   "outputs": [
    {
     "data": {
      "text/plain": [
       "array([[1.83156389e-02, 2.41549528e+07, 6.30511676e-16],\n",
       "       [1.37338298e+32, 4.78089288e-25, 8.10308393e+03],\n",
       "       [5.98741417e+04, 1.09663316e+03, 2.47875218e-03]])"
      ]
     },
     "execution_count": 11,
     "metadata": {},
     "output_type": "execute_result"
    }
   ],
   "source": [
    "np.exp(array1)                #Потенцирование каждого элемента массива array1"
   ]
  },
  {
   "cell_type": "code",
   "execution_count": 12,
   "id": "d1dce649",
   "metadata": {},
   "outputs": [
    {
     "data": {
      "text/plain": [
       "array([[ 19,  25, -38],\n",
       "       [ 62, -45,   7],\n",
       "       [ 10,  10,  -4]])"
      ]
     },
     "execution_count": 12,
     "metadata": {},
     "output_type": "execute_result"
    }
   ],
   "source": [
    "np.add(array1,array2)         #Сумма массивов"
   ]
  },
  {
   "cell_type": "code",
   "execution_count": 13,
   "id": "cf51f593",
   "metadata": {},
   "outputs": [
    {
     "data": {
      "text/plain": [
       "array([[-27,   9, -32],\n",
       "       [ 86, -67,  11],\n",
       "       [ 12,   4,  -8]])"
      ]
     },
     "execution_count": 13,
     "metadata": {},
     "output_type": "execute_result"
    }
   ],
   "source": [
    "np.subtract(array1,array2)    #Разница массивов"
   ]
  },
  {
   "cell_type": "code",
   "execution_count": 14,
   "id": "f0c70cea",
   "metadata": {},
   "outputs": [
    {
     "data": {
      "text/plain": [
       "array([[ -92,  136,  105],\n",
       "       [-888, -616,  -18],\n",
       "       [ -11,   21,  -12]])"
      ]
     },
     "execution_count": 14,
     "metadata": {},
     "output_type": "execute_result"
    }
   ],
   "source": [
    "np.multiply(array1,array2)     #Умножение массивов"
   ]
  },
  {
   "cell_type": "code",
   "execution_count": 15,
   "id": "ea213596",
   "metadata": {},
   "outputs": [
    {
     "data": {
      "text/plain": [
       "array([[ -0.17391304,   2.125     ,  11.66666667],\n",
       "       [ -6.16666667,  -5.09090909,  -4.5       ],\n",
       "       [-11.        ,   2.33333333,  -3.        ]])"
      ]
     },
     "execution_count": 15,
     "metadata": {},
     "output_type": "execute_result"
    }
   ],
   "source": [
    "np.divide(array1,array2)       #Деление массивов"
   ]
  },
  {
   "cell_type": "code",
   "execution_count": 16,
   "id": "d2c57579",
   "metadata": {},
   "outputs": [],
   "source": [
    "# Сравнение массивов (return Boolean)"
   ]
  },
  {
   "cell_type": "code",
   "execution_count": 17,
   "id": "d28084c7",
   "metadata": {},
   "outputs": [
    {
     "data": {
      "text/plain": [
       "array([[False, False, False],\n",
       "       [False, False, False],\n",
       "       [False, False, False]])"
      ]
     },
     "execution_count": 17,
     "metadata": {},
     "output_type": "execute_result"
    }
   ],
   "source": [
    "array1 == array2               #Поэлементное сравнение "
   ]
  },
  {
   "cell_type": "code",
   "execution_count": 18,
   "id": "d80214f6",
   "metadata": {},
   "outputs": [
    {
     "data": {
      "text/plain": [
       "array([[ True, False,  True],\n",
       "       [False,  True, False],\n",
       "       [False, False,  True]])"
      ]
     },
     "execution_count": 18,
     "metadata": {},
     "output_type": "execute_result"
    }
   ],
   "source": [
    "array1 < 0                     #Определение отрицательных элементов массива array1 "
   ]
  },
  {
   "cell_type": "code",
   "execution_count": 19,
   "id": "94b4ae0c",
   "metadata": {},
   "outputs": [
    {
     "data": {
      "text/plain": [
       "False"
      ]
     },
     "execution_count": 19,
     "metadata": {},
     "output_type": "execute_result"
    }
   ],
   "source": [
    "np.array_equal(array1, array2)  #Cравнение \"целиком\""
   ]
  },
  {
   "cell_type": "code",
   "execution_count": 20,
   "id": "536057ae",
   "metadata": {},
   "outputs": [],
   "source": [
    "# Функции агрегации"
   ]
  },
  {
   "cell_type": "code",
   "execution_count": 21,
   "id": "4820de52",
   "metadata": {},
   "outputs": [
    {
     "data": {
      "text/plain": [
       "(-56, 74)"
      ]
     },
     "execution_count": 21,
     "metadata": {},
     "output_type": "execute_result"
    }
   ],
   "source": [
    "array1.min(), array1.max()    #Нахождение минимального и максимального элементов массива array1"
   ]
  },
  {
   "cell_type": "code",
   "execution_count": 22,
   "id": "a1144fa5",
   "metadata": {},
   "outputs": [
    {
     "data": {
      "text/plain": [
       "array([74, 17,  9])"
      ]
     },
     "execution_count": 22,
     "metadata": {},
     "output_type": "execute_result"
    }
   ],
   "source": [
    "array1.max(axis=0)            #Нахождение максимальных элементов в каждом столбце массива array1    "
   ]
  },
  {
   "cell_type": "code",
   "execution_count": 23,
   "id": "3eed4442",
   "metadata": {},
   "outputs": [
    {
     "data": {
      "text/plain": [
       "array([[ -4,  13, -22],\n",
       "       [ 74,  18,  27],\n",
       "       [ 11,  18,  12]], dtype=int32)"
      ]
     },
     "execution_count": 23,
     "metadata": {},
     "output_type": "execute_result"
    }
   ],
   "source": [
    "array1.cumsum(axis=1)         #\"Пошаговая\" (кумулятивная) сумма элементов массива array1 по строкам"
   ]
  },
  {
   "cell_type": "code",
   "execution_count": 24,
   "id": "a85053fb",
   "metadata": {},
   "outputs": [
    {
     "data": {
      "text/plain": [
       "1.8888888888888888"
      ]
     },
     "execution_count": 24,
     "metadata": {},
     "output_type": "execute_result"
    }
   ],
   "source": [
    "array1.mean()                 #Среднее арифметическое элементов массива array1 "
   ]
  },
  {
   "cell_type": "code",
   "execution_count": 25,
   "id": "0e6a54df",
   "metadata": {},
   "outputs": [],
   "source": [
    "# Основные функции линейной алгебры с матрицами"
   ]
  },
  {
   "cell_type": "code",
   "execution_count": 26,
   "id": "c24c079a",
   "metadata": {},
   "outputs": [],
   "source": [
    "from scipy import linalg, sparse\n",
    "import cmath"
   ]
  },
  {
   "cell_type": "code",
   "execution_count": 27,
   "id": "48af4662",
   "metadata": {},
   "outputs": [
    {
     "data": {
      "text/plain": [
       "array([[-0.00865266,  0.00453234,  0.05727235],\n",
       "       [-0.01721023, -0.01296314,  0.08094831],\n",
       "       [-0.03594181, -0.00681436,  0.03277234]])"
      ]
     },
     "execution_count": 27,
     "metadata": {},
     "output_type": "execute_result"
    }
   ],
   "source": [
    "ar1 = linalg.inv(array1)     #Инверсия элементов массива array1\n",
    "ar1"
   ]
  },
  {
   "cell_type": "code",
   "execution_count": 28,
   "id": "eaf847f0",
   "metadata": {},
   "outputs": [
    {
     "data": {
      "text/plain": [
       "array([[ -4,  74,  11],\n",
       "       [ 17, -56,   7],\n",
       "       [-35,   9,  -6]])"
      ]
     },
     "execution_count": 28,
     "metadata": {},
     "output_type": "execute_result"
    }
   ],
   "source": [
    "ar1 = array1.transpose()     #Транспонирование массива array1\n",
    "ar1"
   ]
  },
  {
   "cell_type": "code",
   "execution_count": 29,
   "id": "ef47680e",
   "metadata": {},
   "outputs": [
    {
     "data": {
      "text/plain": [
       "3"
      ]
     },
     "execution_count": 29,
     "metadata": {},
     "output_type": "execute_result"
    }
   ],
   "source": [
    "np.linalg.matrix_rank(array1) #Определение ранга массива array1"
   ]
  },
  {
   "cell_type": "code",
   "execution_count": 30,
   "id": "0dba1529",
   "metadata": {},
   "outputs": [
    {
     "data": {
      "text/plain": [
       "-31550.999999999996"
      ]
     },
     "execution_count": 30,
     "metadata": {},
     "output_type": "execute_result"
    }
   ],
   "source": [
    "linalg.det(array1)            #Определение детерминанта массива array1"
   ]
  },
  {
   "cell_type": "code",
   "execution_count": 31,
   "id": "bfdac0c6",
   "metadata": {},
   "outputs": [],
   "source": [
    "# Функции сортировки"
   ]
  },
  {
   "cell_type": "code",
   "execution_count": 32,
   "id": "dbd07d5b",
   "metadata": {},
   "outputs": [
    {
     "data": {
      "text/plain": [
       "array([[-35,  -4,  17],\n",
       "       [-56,   9,  74],\n",
       "       [ -6,   7,  11]])"
      ]
     },
     "execution_count": 32,
     "metadata": {},
     "output_type": "execute_result"
    }
   ],
   "source": [
    "array1.sort()                 #Сортировка по возрастанию элементов массива array1 построчно \n",
    "array1"
   ]
  },
  {
   "cell_type": "code",
   "execution_count": 33,
   "id": "42dd30ed",
   "metadata": {},
   "outputs": [
    {
     "data": {
      "text/plain": [
       "array([[-12,   3,  -3],\n",
       "       [ -1,   8,  -2],\n",
       "       [ 23,  11,   2]])"
      ]
     },
     "execution_count": 33,
     "metadata": {},
     "output_type": "execute_result"
    }
   ],
   "source": [
    "array2.sort(axis=0)           #Сортировка по возрастанию элементов массива array2 по столбцам\n",
    "array2"
   ]
  }
 ],
 "metadata": {
  "kernelspec": {
   "display_name": "Python 3 (ipykernel)",
   "language": "python",
   "name": "python3"
  },
  "language_info": {
   "codemirror_mode": {
    "name": "ipython",
    "version": 3
   },
   "file_extension": ".py",
   "mimetype": "text/x-python",
   "name": "python",
   "nbconvert_exporter": "python",
   "pygments_lexer": "ipython3",
   "version": "3.9.13"
  }
 },
 "nbformat": 4,
 "nbformat_minor": 5
}
